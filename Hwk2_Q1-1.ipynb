{
 "cells": [
  {
   "cell_type": "raw",
   "metadata": {},
   "source": [
    "Answer to Ques 1"
   ]
  },
  {
   "cell_type": "markdown",
   "metadata": {},
   "source": [
    "$ From\\ Bayes'\\ Rule\\ we\\ have $\n",
    "\n",
    "$ log {\\frac{P(C_1 \\mid x)}{P(C_2 \\mid x)}} = log {\\frac{p(x \\mid C_1)}{p(x \\mid C_2)}} + log {\\frac{P(C_1)}{P(C_2)}} $\n",
    "\n",
    "$ From\\ Eq\\ 5.16\\ we\\ have $\n",
    "\n",
    "$ p(xC_i) = {\\frac{1}{(2\\pi)^{d/2} {\\mid\\sum_i\\mid}^{1/2} } exp[-\\frac{1}{2}{(x-\\mu_i)^T}{\\sum_{i}^{-1}(x-\\mu_i)}]}   $"
   ]
  },
  {
   "cell_type": "markdown",
   "metadata": {},
   "source": [
    "$ Case\\ 1: \\sum_1 \\neq \\sum_2 $\n",
    "\n",
    "$ log {\\frac{p(x \\mid C_1)}{p(x \\mid C_2)}} = log \\frac{{\\mid\\sum_1\\mid^{-1/2}}{exp[-(1/2)(x-\\mu_1)^T \\sum_{1}^{-1}(x-\\mu_1)]}}{{\\mid\\sum_2\\mid^{-1/2}}{exp[-(1/2)(x-\\mu_2)^T \\sum_{2}^{-1}(x-\\mu_2)]}} $\n",
    "\n",
    "$ Hence,$\n",
    "\n",
    "$ log {\\frac{P(C_1 \\mid x)}{P(C_2 \\mid x)}} =\n",
    "log \\frac{{\\mid\\sum_1\\mid^{-1/2}}{exp[-(1/2)(x-\\mu_1)^T \\sum_{1}^{-1}(x-\\mu_1)]}}{{\\mid\\sum_2\\mid^{-1/2}}{exp[-(1/2)(x-\\mu_2)^T \\sum_{2}^{-1}(x-\\mu_2)]}} +\n",
    "log {\\frac{P(C_1)}{P(C_2)}} $\n",
    "\n"
   ]
  },
  {
   "cell_type": "markdown",
   "metadata": {},
   "source": [
    "$ Case\\ 2: \\sum_1 = \\sum_2 = \\sum $\n",
    "\n",
    "$ log {\\frac{p(x \\mid C_1)}{p(x \\mid C_2)}} = log \\frac{{\\mid\\sum\\mid^{-1/2}}{exp[-(1/2)(x-\\mu_1)^T \\sum^{-1}(x-\\mu_1)]}}{{\\mid\\sum\\mid^{-1/2}}{exp[-(1/2)(x-\\mu_2)^T \\sum^{-1}(x-\\mu_2)]}} $\n",
    "\n",
    "$  = {-\\frac{1}{2}{(x-\\mu_1)^T}{\\sum^{-1}(x-\\mu_1)}} + {\\frac{1}{2}{(x-\\mu_1)^T}{\\sum^{-1}(x-\\mu_2)}} $\n",
    "\n",
    "$ = x^T \\sum^{-1} (\\mu_1-\\mu_2) + {\\frac{1}{2}(\\mu_2-\\mu_1)^T}{\\sum^{-1}(\\mu_1+\\mu_2)} $\n",
    "\n",
    "$ Hence,$\n",
    "\n",
    "$ log {\\frac{P(C_1 \\mid x)}{P(C_2 \\mid x)}} =\n",
    "x^T \\sum^{-1} (\\mu_1-\\mu_2) + {\\frac{1}{2}(\\mu_2-\\mu_1)^T}{\\sum^{-1}(\\mu_1+\\mu_2)} +\n",
    "log {\\frac{P(C_1)}{P(C_2)}} $"
   ]
  },
  {
   "cell_type": "markdown",
   "metadata": {},
   "source": [
    "$ Case\\ 3: \\sum \\ diagonal \\ with \\ \\sigma^2 i \\ where \\ i = 1,2,...,d) $\n",
    "\n",
    "$ log {\\frac{p(x \\mid C_1)}{p(x \\mid C_2)}} = {\\sum_{i=1}^{d}}{(\\frac{\\mu_{1i} - \\mu_{2i}}{\\sigma_i})^2}{x_i} - \\frac{1}{2}{\\sum_{i=1}^{d}}{(\\frac{\\mu_{1i}^2 - \\mu_{2i}^2}{\\sigma_i^2})^2}$\n",
    "\n",
    "$ Hence,$\n",
    "\n",
    "$ log {\\frac{P(C_1 \\mid x)}{P(C_2 \\mid x)}} =\n",
    "{\\sum_{i=1}^{d}}{(\\frac{\\mu_{1i} - \\mu_{2i}}{\\sigma_i})^2}{x_i} - \\frac{1}{2}{\\sum_{i=1}^{d}}{(\\frac{\\mu_{1i}^2 - \\mu_{2i}^2}{\\sigma_i^2})^2} +\n",
    "log {\\frac{P(C_1)}{P(C_2)}} $\n",
    " "
   ]
  },
  {
   "cell_type": "markdown",
   "metadata": {},
   "source": [
    "$ Case\\ 4: \\sum \\ diagonal \\ with \\ \\sigma^2 $\n",
    "\n",
    "$ log {\\frac{p(x \\mid C_1)}{p(x \\mid C_2)}} = {\\frac{1}{\\sigma^2}}{\\sum_{i=1}^{d}}{(\\mu_{1i} - \\mu_{2i})^2}{x_i} - {\\frac{1}{2\\sigma^2}{\\sum_{i=1}^{d}}{(\\mu_{1i}^2 - \\mu_{2i}^2})} $\n",
    "\n",
    "$ Hence,$\n",
    "\n",
    "$ log {\\frac{P(C_1 \\mid x)}{P(C_2 \\mid x)}} =\n",
    "{\\frac{1}{\\sigma^2}}{\\sum_{i=1}^{d}}{(\\mu_{1i} - \\mu_{2i})^2}{x_i} - {\\frac{1}{2\\sigma^2}{\\sum_{i=1}^{d}}{(\\mu_{1i}^2 - \\mu_{2i}^2})} +\n",
    "log {\\frac{P(C_1)}{P(C_2)}} $"
   ]
  },
  {
   "cell_type": "code",
   "execution_count": null,
   "metadata": {},
   "outputs": [],
   "source": []
  }
 ],
 "metadata": {
  "kernelspec": {
   "display_name": "Python 3",
   "language": "python",
   "name": "python3"
  },
  "language_info": {
   "codemirror_mode": {
    "name": "ipython",
    "version": 3
   },
   "file_extension": ".py",
   "mimetype": "text/x-python",
   "name": "python",
   "nbconvert_exporter": "python",
   "pygments_lexer": "ipython3",
   "version": "3.6.4"
  }
 },
 "nbformat": 4,
 "nbformat_minor": 2
}
